{
 "cells": [
  {
   "cell_type": "code",
   "execution_count": 2,
   "metadata": {},
   "outputs": [],
   "source": [
    "import numpy as np\n",
    "from scipy.integrate import quad\n",
    "import scipy.constants as const\n",
    "import matplotlib.pyplot as plt"
   ]
  },
  {
   "cell_type": "code",
   "execution_count": 3,
   "metadata": {},
   "outputs": [],
   "source": [
    "# Values\n",
    "kpc = 3.086e+19\n",
    "M_sol = 1.9884e30\n",
    "L = 50 * kpc\n",
    "V_c = 240e3\n",
    "M = .01 * M_sol\n",
    "\n",
    "R_h = 11.41 * kpc\n",
    "R_0 = 8.5 * kpc\n",
    "rho_0 = 0.01992 * M_sol / (kpc)**3\n",
    "n = 0.43\n",
    "\n",
    "G = const.G\n",
    "g = 1\n",
    "c = const.c"
   ]
  },
  {
   "cell_type": "code",
   "execution_count": 30,
   "metadata": {},
   "outputs": [],
   "source": [
    "# Constant multiplier:\n",
    "m =  32 * L / ( V_c**2 * 86400**2 * 0.00273973**2 * M)\n",
    "#def m(t):\n",
    "#    return 32 * L / (t**4 * V_c**2 * 86400**2 * 0.00273973**2)\n",
    "\n",
    "# Inside last exp\n",
    "k = 16 * G * M * L / (c**2 * V_c**2 * 86400**2)\n",
    "\n",
    "#  Einstei Radius\n",
    "def R_e(x):\n",
    "    return 4 * G * M * L * x * (1 - x) / c**2\n",
    "\n",
    "# Density profile\n",
    "def rho(x):\n",
    "    return rho_0 * np.exp(-(L * x / R_h)**(1/n))\n",
    "\n",
    "# Exponent\n",
    "def exp(x, t):\n",
    "    return np.exp(-(k * x * (1 - x) / t**2))\n",
    "\n",
    "# Integrand\n",
    "def Integrand(x, t):\n",
    "    return rho(x) * R_e(x)**2 * exp(x, t) / t**4"
   ]
  },
  {
   "cell_type": "code",
   "execution_count": 31,
   "metadata": {},
   "outputs": [],
   "source": [
    "t_values = np.arange(2.5, 250, 2.5)\n",
    "\n",
    "diff_rates = []\n",
    "errors = []\n",
    "results = []\n",
    "\n",
    "for t in t_values:\n",
    "    result, error = quad(Integrand, R_0/L, 1, args=(t,))\n",
    "    \n",
    "    diff_rat = m * result \n",
    "    results.append(diff_rat)\n",
    "    \n",
    "results = np.array(results)\n"
   ]
  },
  {
   "cell_type": "code",
   "execution_count": null,
   "metadata": {},
   "outputs": [],
   "source": [
    "# Create the plot\n",
    "fig, ax = plt.subplots()\n",
    "\n",
    "# Plot the data\n",
    "ax.plot(t_values, results)\n",
    "\n",
    "'''\n",
    "# Set major ticks locator and format\n",
    "ax.xaxis.set_major_locator(plt.MultipleLocator(10))\n",
    "ax.xaxis.set_minor_locator(plt.MultipleLocator(2))\n",
    "#ax.xaxis.set_major_formatter(plt.FuncFormatter(lambda x, _: f'{int(x)}'))\n",
    "\n",
    "# Customize the ticks\n",
    "ax.tick_params(axis='x', which='major', length=10, width=2)\n",
    "ax.tick_params(axis='x', which='minor', length=5, width=1, color='gray')\n",
    "'''\n",
    "\n",
    "# Set labels\n",
    "ax.set_xlabel('t [days]')\n",
    "ax.set_ylabel('Diff Rate')\n",
    "ax.set_title('diff Rate')\n",
    "\n",
    "# Show the grid\n",
    "ax.grid(False, which='both')\n",
    "\n",
    "# Display the plot\n",
    "plt.show()"
   ]
  },
  {
   "cell_type": "code",
   "execution_count": null,
   "metadata": {},
   "outputs": [],
   "source": [
    "print(4 * np.pi * G * 0.1 * M_sol * 1e9 * 9 * (-1/4 + np.exp(-2/3))/ (c**2 * kpc))"
   ]
  }
 ],
 "metadata": {
  "kernelspec": {
   "display_name": "Python 3",
   "language": "python",
   "name": "python3"
  },
  "language_info": {
   "codemirror_mode": {
    "name": "ipython",
    "version": 3
   },
   "file_extension": ".py",
   "mimetype": "text/x-python",
   "name": "python",
   "nbconvert_exporter": "python",
   "pygments_lexer": "ipython3",
   "version": "3.12.0"
  }
 },
 "nbformat": 4,
 "nbformat_minor": 2
}
