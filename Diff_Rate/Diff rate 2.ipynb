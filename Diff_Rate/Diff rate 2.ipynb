{
 "cells": [
  {
   "cell_type": "code",
   "execution_count": 19,
   "metadata": {},
   "outputs": [],
   "source": [
    "import numpy as np\n",
    "from scipy.integrate import quad\n",
    "import scipy.constants as const\n",
    "import matplotlib.pyplot as plt"
   ]
  },
  {
   "cell_type": "code",
   "execution_count": 20,
   "metadata": {},
   "outputs": [],
   "source": [
    "# Values\n",
    "kpc = 3.086e+19\n",
    "M_sol = 1.9884e30\n",
    "L = 50 * kpc\n",
    "V_c = 220e3\n",
    "M = .01 * M_sol\n",
    "R_0 = 8.5 * kpc\n",
    "\n",
    "# Constants\n",
    "c = const.c\n",
    "G = const.G"
   ]
  },
  {
   "cell_type": "code",
   "execution_count": 21,
   "metadata": {},
   "outputs": [],
   "source": [
    "# Constant multiplier:\n",
    "#m =  32 * L / ( V_c**2 * 86400**2 * 0.00273973**2 * M)\n",
    "m =  32 * L / ( V_c**2 * M)\n",
    "\n",
    "#def m(t):\n",
    "#    return 32 * L / (t**4 * V_c**2 * 86400**2 * 0.00273973**2 * M)\n",
    "\n",
    "# Einstein Radius\n",
    "def e(x):\n",
    "    return np.sqrt(4 * G * M * L * x * (1-x) / c**2)\n",
    "\n",
    "# Inside last exp\n",
    "k = 16 * G * M * L / (c**2 * V_c**2 * 86400**2)\n",
    "\n",
    "# Densities\n",
    "\n",
    "# Bulge\n",
    "def r1(x):\n",
    "    m1 = 1.55e10 * M_sol\n",
    "    rb = 0.70 * kpc\n",
    "    return 2 * m1 * rb / (L * x * (rb + L *x)**3)\n",
    "\n",
    "# Disk\n",
    "def r2(x):\n",
    "    m2 = 3.65e10 * M_sol\n",
    "    l = 2.35 * kpc\n",
    "    H = 0.14 * kpc\n",
    "    return m2 * np.exp(-L * x / l)  * np.exp(- 2 *e (x) / H) / (l**2 * H)\n",
    "\n",
    "# Gas\n",
    "def r3(x):\n",
    "    m3 = 0.82e10 * M_sol\n",
    "    rg = 18.14 * kpc\n",
    "    zd = 0.52 * kpc\n",
    "    return m3 * np.exp(-L * x / rg) * np.exp(- 2 *e (x) / zd) / (rg**2 * zd)\n",
    "\n",
    "# Halo\n",
    "def r4(x):\n",
    "    rho_0 = 0.01992e9 * M_sol  / kpc**3\n",
    "    rh = 11.41 * kpc\n",
    "    n= 0.43\n",
    "    return rho_0 * np.exp(-(L * x / rh)**(1/n))\n",
    "\n",
    "# Density\n",
    "def r(x):\n",
    "    return r4(x)\n",
    "\n",
    "# Exponent\n",
    "def exp(x, t):\n",
    "    return np.exp(-(k * x * (1 - x) / t**2))\n",
    "\n",
    "# Integrand\n",
    "def int(x, t):\n",
    "    return r(x) * e(x)**4 * exp(x, t) / t"
   ]
  },
  {
   "cell_type": "code",
   "execution_count": 22,
   "metadata": {},
   "outputs": [],
   "source": [
    "t_values = np.arange(2.5, 250, 2.5)\n",
    "\n",
    "diff_rates = []\n",
    "errors = []\n",
    "results = []\n",
    "\n",
    "for t in t_values:\n",
    "    result, error = quad(int, R_0/L, 1, args=(t,))\n",
    "    \n",
    "    diff_rat =  m * result \n",
    "    results.append(diff_rat)\n",
    "    \n",
    "results = np.array(results)"
   ]
  },
  {
   "cell_type": "code",
   "execution_count": null,
   "metadata": {},
   "outputs": [],
   "source": [
    "# Create the plot\n",
    "fig, ax = plt.subplots()\n",
    "\n",
    "# Plot the data\n",
    "ax.plot(t_values, results)\n",
    "\n",
    "'''\n",
    "# Set major ticks locator and format\n",
    "ax.xaxis.set_major_locator(plt.MultipleLocator(10))\n",
    "ax.xaxis.set_minor_locator(plt.MultipleLocator(2))\n",
    "#ax.xaxis.set_major_formatter(plt.FuncFormatter(lambda x, _: f'{int(x)}'))\n",
    "\n",
    "# Customize the ticks\n",
    "ax.tick_params(axis='x', which='major', length=10, width=0.5)\n",
    "ax.tick_params(axis='x', which='minor', length=5, width=1, color='gray')\n",
    "'''\n",
    "\n",
    "# Set labels\n",
    "ax.set_xlabel('t [days]')\n",
    "ax.set_ylabel('Diff Rate')\n",
    "ax.set_title('diff Rate')\n",
    "\n",
    "# Show the grid\n",
    "ax.grid(False, which='both')\n",
    "\n",
    "# Display the plot\n",
    "plt.show()"
   ]
  },
  {
   "cell_type": "code",
   "execution_count": null,
   "metadata": {},
   "outputs": [],
   "source": [
    "print(4 * G * M * L / c**2)"
   ]
  }
 ],
 "metadata": {
  "kernelspec": {
   "display_name": "Python 3",
   "language": "python",
   "name": "python3"
  },
  "language_info": {
   "codemirror_mode": {
    "name": "ipython",
    "version": 3
   },
   "file_extension": ".py",
   "mimetype": "text/x-python",
   "name": "python",
   "nbconvert_exporter": "python",
   "pygments_lexer": "ipython3",
   "version": "3.12.0"
  }
 },
 "nbformat": 4,
 "nbformat_minor": 2
}
