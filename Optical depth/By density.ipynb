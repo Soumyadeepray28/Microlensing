{
 "cells": [
  {
   "cell_type": "code",
   "execution_count": 1,
   "metadata": {},
   "outputs": [],
   "source": [
    "import numpy as np\n",
    "from scipy.integrate import quad\n",
    "import scipy.constants as const\n",
    "import matplotlib.pyplot as plt"
   ]
  },
  {
   "cell_type": "code",
   "execution_count": 2,
   "metadata": {},
   "outputs": [],
   "source": [
    "# Value\n",
    "\n",
    "kpc = 3.086e+19\n",
    "\n",
    "M_sol = 1.9884e30\n",
    "\n",
    "R_0 = 8.5 * kpc\n",
    "\n",
    "c = const.c\n",
    "\n",
    "G = const.G\n",
    "\n",
    "L = 50 * kpc"
   ]
  },
  {
   "cell_type": "code",
   "execution_count": 6,
   "metadata": {},
   "outputs": [],
   "source": [
    "# Einstein Raidus\n",
    "def e(x):\n",
    "    return np.sqrt(4 * G * M_sol * L * x * (1-x) / c**2)\n",
    "\n",
    "# Densities\n",
    "\n",
    "# Bulge\n",
    "def r1(x, l):\n",
    "    m1 = 1.55e10 * M_sol\n",
    "    rb = 0.70 * kpc\n",
    "    return 2 * m1 * rb / (l * x * (rb + l *x)**3)\n",
    "\n",
    "# Disk\n",
    "def r2(x, l):\n",
    "    m2 = 3.65e10 * M_sol\n",
    "    l1 = 2.35 * kpc\n",
    "    H = 0.14 * kpc\n",
    "    return m2 * np.exp(-l * x / l1) / (l1**2 * H)\n",
    "\n",
    "# Gas\n",
    "def r3(x, l):\n",
    "    m3 = 0.82e10 * M_sol\n",
    "    rg = 18.14 * kpc\n",
    "    zd = 0.52 * kpc\n",
    "    return m3 * np.exp(-l * x / rg) / (rg**2 * zd)\n",
    "\n",
    "# Halo\n",
    "def r4(x, l):\n",
    "    rho_0 = 0.01992 * M_sol  / kpc**3\n",
    "    rh = 11.41 * kpc\n",
    "    n= 0.43\n",
    "    return rho_0 * np.exp(-(l * x / rh)**(1/n))\n",
    "\n",
    "# Total Density\n",
    "def r(x, l):\n",
    "    return r4(x, l)\n",
    "\n",
    "#+r4(x, l)\n",
    "\n",
    "def int(x, l):\n",
    "    return 4 * np.pi * G * (l - 8.5 * kpc)**2 * r(x, l) / c**2"
   ]
  },
  {
   "cell_type": "code",
   "execution_count": 12,
   "metadata": {},
   "outputs": [
    {
     "name": "stdout",
     "output_type": "stream",
     "text": [
      "[0.00000000e+00 9.70005613e-20 7.08812494e-19 2.18845311e-18\n",
      " 4.75195154e-18 8.51233198e-18 1.35059490e-17 1.97131978e-17\n",
      " 2.70749516e-17 3.55056491e-17 4.49036845e-17 5.51595743e-17\n",
      " 6.61622635e-17 7.78038618e-17 8.99830537e-17 1.02607393e-16\n",
      " 1.15594674e-16 1.28873548e-16 1.42383549e-16 1.56074656e-16\n",
      " 1.69906542e-16 1.83847590e-16 1.97873800e-16 2.11967640e-16\n",
      " 2.26116920e-16 2.40313725e-16 2.54553446e-16 2.68833924e-16\n",
      " 2.83154720e-16 2.97516514e-16 3.11920623e-16 3.26368629e-16\n",
      " 3.40862112e-16 3.55402463e-16 3.69990766e-16 3.84627735e-16\n",
      " 3.99313700e-16 4.14048609e-16 4.28832069e-16 4.43663380e-16\n",
      " 4.58541591e-16 4.73465547e-16 4.88433937e-16 5.03445345e-16\n",
      " 5.18498277e-16 5.33591208e-16 5.48722597e-16 5.63890917e-16\n",
      " 5.79094667e-16 5.94332387e-16 6.09602664e-16 6.24904141e-16\n",
      " 6.40235517e-16 6.55595548e-16 6.70983052e-16 6.86396902e-16\n",
      " 7.01836029e-16 7.17299416e-16 7.32786099e-16 7.48295162e-16\n",
      " 7.63825735e-16 7.79376992e-16 7.94948150e-16 8.10538462e-16\n",
      " 8.26147220e-16 8.41773749e-16 8.57417407e-16 8.73077582e-16\n",
      " 8.88753691e-16 9.04445178e-16 9.20151514e-16 9.35872192e-16\n",
      " 9.51606728e-16 9.67354661e-16 9.83115548e-16 9.98888969e-16\n",
      " 1.01467452e-15 1.03047181e-15 1.04628047e-15 1.06210014e-15\n",
      " 1.07793049e-15 1.09377119e-15 1.10962192e-15]\n"
     ]
    }
   ],
   "source": [
    "l_value = np.arange(8.5, 50, 0.5)\n",
    "\n",
    "int_val = []\n",
    "\n",
    "for k in l_value:\n",
    "    l = k * kpc\n",
    "    \n",
    "    result, error = quad(int, R_0/l, 1, args=(l,))\n",
    "    int_val.append(result)\n",
    "    \n",
    "int_val = np.array(int_val)\n",
    "    \n",
    "   \n",
    "print(int_val)"
   ]
  },
  {
   "cell_type": "code",
   "execution_count": 13,
   "metadata": {},
   "outputs": [
    {
     "data": {
      "image/png": "[encoded data removed]",
      "text/plain": [
       "<Figure size 640x480 with 1 Axes>"
      ]
     },
     "metadata": {},
     "output_type": "display_data"
    }
   ],
   "source": [
    "# Create the plot\n",
    "fig, ax = plt.subplots()\n",
    "\n",
    "# Plot the data\n",
    "ax.plot(l_value, int_val)\n",
    "\n",
    "'''\n",
    "# Set major ticks locator and format\n",
    "ax.xaxis.set_major_locator(plt.MultipleLocator(10))\n",
    "ax.xaxis.set_minor_locator(plt.MultipleLocator(2))\n",
    "#ax.xaxis.set_major_formatter(plt.FuncFormatter(lambda x, _: f'{int(x)}'))\n",
    "\n",
    "# Customize the ticks\n",
    "ax.tick_params(axis='x', which='major', length=10, width=2)\n",
    "ax.tick_params(axis='x', which='minor', length=5, width=1, color='gray')\n",
    "'''\n",
    "\n",
    "# Set labels\n",
    "ax.set_xlabel('t [days]')\n",
    "ax.set_ylabel('Diff Rate')\n",
    "ax.set_title('diff Rate')\n",
    "\n",
    "# Show the grid\n",
    "ax.grid(False, which='both')\n",
    "\n",
    "# Display the plot\n",
    "plt.show()"
   ]
  }
 ],
 "metadata": {
  "kernelspec": {
   "display_name": "Python 3",
   "language": "python",
   "name": "python3"
  },
  "language_info": {
   "codemirror_mode": {
    "name": "ipython",
    "version": 3
   },
   "file_extension": ".py",
   "mimetype": "text/x-python",
   "name": "python",
   "nbconvert_exporter": "python",
   "pygments_lexer": "ipython3",
   "version": "3.12.0"
  }
 },
 "nbformat": 4,
 "nbformat_minor": 2
}
