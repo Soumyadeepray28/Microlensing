{
 "cells": [
  {
   "cell_type": "code",
   "execution_count": 1,
   "metadata": {},
   "outputs": [],
   "source": [
    "import numpy as np\n",
    "from scipy.integrate import quad\n",
    "import scipy.constants as const\n",
    "import matplotlib.pyplot as plt"
   ]
  },
  {
   "cell_type": "code",
   "execution_count": 2,
   "metadata": {},
   "outputs": [],
   "source": [
    "# Value\n",
    "\n",
    "kpc = 3.086e+19\n",
    "\n",
    "M_sol = 1.9884e30\n",
    "\n",
    "R_0 = 8.5 * kpc\n",
    "\n",
    "c = const.c\n",
    "\n",
    "G = const.G\n",
    "\n",
    "L = 50 * kpc"
   ]
  },
  {
   "cell_type": "code",
   "execution_count": 6,
   "metadata": {},
   "outputs": [],
   "source": [
    "# Einstein Raidus\n",
    "def e(x):\n",
    "    return np.sqrt(4 * G * M_sol * L * x * (1-x) / c**2)\n",
    "\n",
    "# Densities\n",
    "\n",
    "# Bulge\n",
    "def r1(x, l):\n",
    "    m1 = 1.55e10 * M_sol\n",
    "    rb = 0.70 * kpc\n",
    "    return 2 * m1 * rb / (l * x * (rb + l *x)**3)\n",
    "\n",
    "# Disk\n",
    "def r2(x, l):\n",
    "    m2 = 3.65e10 * M_sol\n",
    "    l1 = 2.35 * kpc\n",
    "    H = 0.14 * kpc\n",
    "    return m2 * np.exp(-l * x / l1) / (l1**2 * H)\n",
    "\n",
    "# Gas\n",
    "def r3(x, l):\n",
    "    m3 = 0.82e10 * M_sol\n",
    "    rg = 18.14 * kpc\n",
    "    zd = 0.52 * kpc\n",
    "    return m3 * np.exp(-l * x / rg) / (rg**2 * zd)\n",
    "\n",
    "# Halo\n",
    "def r4(x, l):\n",
    "    rho_0 = 0.01992 * M_sol  / kpc**3\n",
    "    rh = 11.41 * kpc\n",
    "    n= 0.43\n",
    "    return rho_0 * np.exp(-(l * x / rh)**(1/n))\n",
    "\n",
    "# Total Density\n",
    "def r(x, l):\n",
    "    return r4(x, l)\n",
    "\n",
    "#+r4(x, l)\n",
    "\n",
    "def int(x, l):\n",
    "    return 4 * np.pi * G * (l - 8.5 * kpc)**2 * r(x, l) / c**2"
   ]
  },
  {
   "cell_type": "code",
   "execution_count": null,
   "metadata": {},
   "outputs": [],
   "source": [
    "l_value = np.arange(8.5, 50, 0.5)\n",
    "\n",
    "int_val = []\n",
    "\n",
    "for k in l_value:\n",
    "    l = k * kpc\n",
    "    \n",
    "    result, error = quad(int, R_0/l, 1, args=(l,))\n",
    "    int_val.append(result)\n",
    "    \n",
    "int_val = np.array(int_val)\n",
    "    \n",
    "   \n",
    "print(int_val)"
   ]
  },
  {
   "cell_type": "code",
   "execution_count": null,
   "metadata": {},
   "outputs": [],
   "source": [
    "# Create the plot\n",
    "fig, ax = plt.subplots()\n",
    "\n",
    "# Plot the data\n",
    "ax.plot(l_value, int_val)\n",
    "\n",
    "'''\n",
    "# Set major ticks locator and format\n",
    "ax.xaxis.set_major_locator(plt.MultipleLocator(10))\n",
    "ax.xaxis.set_minor_locator(plt.MultipleLocator(2))\n",
    "#ax.xaxis.set_major_formatter(plt.FuncFormatter(lambda x, _: f'{int(x)}'))\n",
    "\n",
    "# Customize the ticks\n",
    "ax.tick_params(axis='x', which='major', length=10, width=2)\n",
    "ax.tick_params(axis='x', which='minor', length=5, width=1, color='gray')\n",
    "'''\n",
    "\n",
    "# Set labels\n",
    "ax.set_xlabel('t [days]')\n",
    "ax.set_ylabel('Diff Rate')\n",
    "ax.set_title('diff Rate')\n",
    "\n",
    "# Show the grid\n",
    "ax.grid(False, which='both')\n",
    "\n",
    "# Display the plot\n",
    "plt.show()"
   ]
  }
 ],
 "metadata": {
  "kernelspec": {
   "display_name": "Python 3",
   "language": "python",
   "name": "python3"
  },
  "language_info": {
   "codemirror_mode": {
    "name": "ipython",
    "version": 3
   },
   "file_extension": ".py",
   "mimetype": "text/x-python",
   "name": "python",
   "nbconvert_exporter": "python",
   "pygments_lexer": "ipython3",
   "version": "3.12.0"
  }
 },
 "nbformat": 4,
 "nbformat_minor": 2
}
