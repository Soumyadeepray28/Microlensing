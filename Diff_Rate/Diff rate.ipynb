{
 "cells": [
  {
   "cell_type": "code",
   "execution_count": null,
   "metadata": {},
   "outputs": [],
   "source": [
    "import numpy as np\n",
    "from scipy.integrate import quad\n",
    "import scipy.constants as const\n",
    "import matplotlib.pyplot as plt"
   ]
  },
  {
   "cell_type": "code",
   "execution_count": null,
   "metadata": {},
   "outputs": [],
   "source": [
    "# Values\n",
    "kpc = 3.086e+19\n",
    "M_sol = 1.9884e30\n",
    "L = 50 * kpc\n",
    "V_c = 240e3\n",
    "M = .01 * M_sol\n",
    "\n",
    "R_h = 11.41 * kpc\n",
    "R_0 = 8.5 * kpc\n",
    "rho_0 = 0.01992 * M_sol / (kpc)**3\n",
    "n = 0.43"
   ]
  },
  {
   "cell_type": "code",
   "execution_count": null,
   "metadata": {},
   "outputs": [],
   "source": [
    "# Einstein radius\n",
    "def r_e(x):\n",
    "    return 4 * const.G * M * L * x * (1-x) / const.c**2\n",
    "\n",
    "# Density profile\n",
    "def rho(x):\n",
    "    return rho_0 * np.exp(-(L * x / R_h)**(1/n)) \n",
    "\n",
    "# Exponent\n",
    "def exp(x, t):\n",
    "    return np.exp(-(4 * r_e(x) / (t**2 * V_c**2)))\n",
    "\n",
    "# Integrand\n",
    "def Integrand(x, t):\n",
    "    ex = exp(x, t)\n",
    "    return rho(x) * r_e(x)**2 * ex\n",
    "\n"
   ]
  },
  {
   "cell_type": "code",
   "execution_count": 10,
   "metadata": {},
   "outputs": [
    {
     "name": "stdout",
     "output_type": "stream",
     "text": [
      "4211513087839.8096\n",
      "322.24625815032346\n"
     ]
    }
   ],
   "source": [
    "t = 10 * 86400\n",
    "result, error = quad(Integrand, R_0/L, 1, args=(t,))\n",
    "diff_rate = 32 * L * result / ((t * 3.171e-8)**4 * V_c**2 * M )\n",
    "\n",
    "print(result)\n",
    "print(diff_rate)"
   ]
  },
  {
   "cell_type": "code",
   "execution_count": null,
   "metadata": {},
   "outputs": [],
   "source": [
    "'''\n",
    "t_values = np.arange(10, 100, 1)\n",
    "\n",
    "diff_rates = []\n",
    "errors = []\n",
    "results = []\n",
    "\n",
    "for T in t_values:\n",
    "    t = T * 86400\n",
    "    result, error = quad(Integrand, R_0/L, 1, args=(t,))\n",
    "    diff_rate = 32 * L * result / ((t * 3.171e-8)**4 * V_c**2 * M)\n",
    "    diff_rates.append(diff_rate)\n",
    "    errors.append(error)\n",
    "    results.append(result)\n",
    "    \n",
    "# Convert lists to numpy arrays for plotting\n",
    "diff_rates = np.array(diff_rates)\n",
    "errors = np.array(errors)\n",
    "results = np.array(results)\n",
    "\n",
    "# Plotting\n",
    "plt.figure(figsize=(10, 6))\n",
    "plt.xlim(5, T)\n",
    "plt.ylim(0.001e5, 100e5)\n",
    "plt.title('Differential rate')\n",
    "plt.xlabel('t')\n",
    "plt.ylabel('Integral result')\n",
    "plt.grid(False)\n",
    "plt.show()\n",
    "\n",
    "print(results)\n",
    "'''"
   ]
  },
  {
   "cell_type": "code",
   "execution_count": null,
   "metadata": {},
   "outputs": [],
   "source": []
  }
 ],
 "metadata": {
  "kernelspec": {
   "display_name": "Python 3",
   "language": "python",
   "name": "python3"
  },
  "language_info": {
   "codemirror_mode": {
    "name": "ipython",
    "version": 3
   },
   "file_extension": ".py",
   "mimetype": "text/x-python",
   "name": "python",
   "nbconvert_exporter": "python",
   "pygments_lexer": "ipython3",
   "version": "3.12.0"
  }
 },
 "nbformat": 4,
 "nbformat_minor": 2
}
